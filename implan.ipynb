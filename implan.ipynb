{
 "cells": [
  {
   "cell_type": "code",
   "execution_count": 134,
   "metadata": {},
   "outputs": [],
   "source": [
    "# Import libraries\n",
    "import os\n",
    "import glob\n",
    "import pandas as pd\n",
    "import plotly.express as px\n",
    "import streamlit as st"
   ]
  },
  {
   "cell_type": "code",
   "execution_count": 135,
   "metadata": {},
   "outputs": [],
   "source": [
    "# Locate the files in the appropriate directory\n",
    "path = './Adrienne_Data/'\n",
    "files = glob.glob(path+'/*.csv')\n",
    "\n",
    "# Load the data and join them\n",
    "data = []\n",
    "for file in files:\n",
    "    df = pd.read_csv(file,index_col=None,header=0)\n",
    "    data.append(df)\n",
    "data = pd.concat(data,axis=0,ignore_index=True)\n",
    "\n",
    "# Clean the data\n",
    "data.drop(['Unnamed: 0'],axis=1,inplace=True) # Redundant column"
   ]
  },
  {
   "cell_type": "code",
   "execution_count": 136,
   "metadata": {},
   "outputs": [],
   "source": [
    "# Rename years\n",
    "# Create a dictionary to map years to their corresponding values\n",
    "year_mapping = {\n",
    "    2035: 5, 2040: 10, 2045: 15, 2050: 20,\n",
    "    2055: 25, 2060: 30, 2065: 35, 2070: 40,\n",
    "    2075: 45, 2080: 50, 2085: 55, 2090: 60,\n",
    "    2095: 65, 2100: 70, 2105: 75, 2109: 80\n",
    "}\n",
    "\n",
    "# Apply the year mapping using the replace method\n",
    "data[\"Year\"] = data[\"Year\"].replace(year_mapping)\n",
    "\n",
    "# Remove the numbers from the metrics column\n",
    "data['Metric'] = data['Metric'].str.slice(start=2)\n",
    "\n",
    "# Rename and select metrics\n",
    "data['Metric'] = data['Metric'].replace({'Employment': 'Jobs',\n",
    "                                        'LaborIncome':'Labor Income',\n",
    "                                        'Output':'Total Production Value'})\n",
    "data = data[data[\"Metric\"].isin([\"Jobs\", \"Labor Income\", \"Total Production Value\"])]\n",
    "\n",
    "# Rename industries\n",
    "data['Industry'] = data['Industry'].replace({'TIPU (Transportation, Information, Power and Utilities)':'Transportation and Utilities'})"
   ]
  },
  {
   "cell_type": "code",
   "execution_count": 137,
   "metadata": {},
   "outputs": [],
   "source": [
    "# data['Metric'] = data['Metric'].replace({'EmployeeCompensation': 'Employee Compensation', 'PropietorsIncome': \"Proprietor's Income\",'LaborIncome':'Labor Income','OtherPropertyTypeIncome':'Other Property Type Income','IndirectBusinessTaxes':'Indirect Business Taxes','TotalValueAdded':'Total Value Added'})"
   ]
  },
  {
   "cell_type": "code",
   "execution_count": 138,
   "metadata": {},
   "outputs": [],
   "source": [
    "# Update industry values to group them\n",
    "industry_mapping = {\n",
    "    'Service': 'Service and Trade',\n",
    "    'Trade': 'Service and Trade',\n",
    "    'Mining': 'Mining, Manufacturing, and Agriculture',\n",
    "    'Manufacturing': 'Mining, Manufacturing, and Agriculture',\n",
    "    'Agriculture': 'Mining, Manufacturing, and Agriculture'\n",
    "}\n",
    "\n",
    "# Apply the industry mapping using the replace method\n",
    "data['Industry'] = data['Industry'].replace(industry_mapping)\n",
    "\n",
    "# Group by 'Industry', 'Year', 'Metric', 'Attribute', and 'Scenario', and then sum the 'Value' column\n",
    "data = data.groupby(['Industry', 'Year', 'Metric', 'Attribute', 'Scenario'])['Value'].sum().reset_index()"
   ]
  },
  {
   "cell_type": "code",
   "execution_count": 139,
   "metadata": {},
   "outputs": [],
   "source": [
    "# Group the data by the \"Scenario\" column\n",
    "grouped_data = data.groupby('Scenario')\n",
    "\n",
    "# Create a dictionary to store the separate DataFrames\n",
    "dataframes_by_scenario = {}\n",
    "\n",
    "# Iterate through the groups and create separate DataFrames\n",
    "for scenario, group in grouped_data:\n",
    "    dataframes_by_scenario[scenario] = group.copy()\n",
    "\n",
    "# Access the separate DataFrames using the keys \"Base Case\" and \"Higher Receipt\"\n",
    "base_case = dataframes_by_scenario['Base Case']\n",
    "higher_receipt = dataframes_by_scenario['Higher Receipt']"
   ]
  },
  {
   "cell_type": "code",
   "execution_count": 2,
   "metadata": {},
   "outputs": [
    {
     "data": {
      "application/vnd.plotly.v1+json": {
       "config": {
        "plotlyServerURL": "https://plotly.com"
       },
       "data": [
        {
         "type": "bar",
         "visible": true,
         "x": [
          "a",
          "b",
          "c"
         ],
         "y": [
          1,
          2,
          3
         ]
        },
        {
         "type": "bar",
         "x": [
          "a",
          "b",
          "c"
         ],
         "y": [
          1,
          2,
          3
         ]
        }
       ],
       "layout": {
        "annotations": [
         {
          "align": "left",
          "showarrow": false,
          "text": "<b>group/<br>trace:</b>",
          "x": -0.15,
          "xref": "paper",
          "y": 1.15,
          "yref": "paper"
         },
         {
          "showarrow": false,
          "text": "<b>group/<br>trace:</b>",
          "x": -0.15,
          "xref": "paper",
          "y": 0.6,
          "yref": "paper"
         }
        ],
        "showlegend": false,
        "template": {
         "data": {
          "bar": [
           {
            "error_x": {
             "color": "#2a3f5f"
            },
            "error_y": {
             "color": "#2a3f5f"
            },
            "marker": {
             "line": {
              "color": "#E5ECF6",
              "width": 0.5
             },
             "pattern": {
              "fillmode": "overlay",
              "size": 10,
              "solidity": 0.2
             }
            },
            "type": "bar"
           }
          ],
          "barpolar": [
           {
            "marker": {
             "line": {
              "color": "#E5ECF6",
              "width": 0.5
             },
             "pattern": {
              "fillmode": "overlay",
              "size": 10,
              "solidity": 0.2
             }
            },
            "type": "barpolar"
           }
          ],
          "carpet": [
           {
            "aaxis": {
             "endlinecolor": "#2a3f5f",
             "gridcolor": "white",
             "linecolor": "white",
             "minorgridcolor": "white",
             "startlinecolor": "#2a3f5f"
            },
            "baxis": {
             "endlinecolor": "#2a3f5f",
             "gridcolor": "white",
             "linecolor": "white",
             "minorgridcolor": "white",
             "startlinecolor": "#2a3f5f"
            },
            "type": "carpet"
           }
          ],
          "choropleth": [
           {
            "colorbar": {
             "outlinewidth": 0,
             "ticks": ""
            },
            "type": "choropleth"
           }
          ],
          "contour": [
           {
            "colorbar": {
             "outlinewidth": 0,
             "ticks": ""
            },
            "colorscale": [
             [
              0,
              "#0d0887"
             ],
             [
              0.1111111111111111,
              "#46039f"
             ],
             [
              0.2222222222222222,
              "#7201a8"
             ],
             [
              0.3333333333333333,
              "#9c179e"
             ],
             [
              0.4444444444444444,
              "#bd3786"
             ],
             [
              0.5555555555555556,
              "#d8576b"
             ],
             [
              0.6666666666666666,
              "#ed7953"
             ],
             [
              0.7777777777777778,
              "#fb9f3a"
             ],
             [
              0.8888888888888888,
              "#fdca26"
             ],
             [
              1,
              "#f0f921"
             ]
            ],
            "type": "contour"
           }
          ],
          "contourcarpet": [
           {
            "colorbar": {
             "outlinewidth": 0,
             "ticks": ""
            },
            "type": "contourcarpet"
           }
          ],
          "heatmap": [
           {
            "colorbar": {
             "outlinewidth": 0,
             "ticks": ""
            },
            "colorscale": [
             [
              0,
              "#0d0887"
             ],
             [
              0.1111111111111111,
              "#46039f"
             ],
             [
              0.2222222222222222,
              "#7201a8"
             ],
             [
              0.3333333333333333,
              "#9c179e"
             ],
             [
              0.4444444444444444,
              "#bd3786"
             ],
             [
              0.5555555555555556,
              "#d8576b"
             ],
             [
              0.6666666666666666,
              "#ed7953"
             ],
             [
              0.7777777777777778,
              "#fb9f3a"
             ],
             [
              0.8888888888888888,
              "#fdca26"
             ],
             [
              1,
              "#f0f921"
             ]
            ],
            "type": "heatmap"
           }
          ],
          "heatmapgl": [
           {
            "colorbar": {
             "outlinewidth": 0,
             "ticks": ""
            },
            "colorscale": [
             [
              0,
              "#0d0887"
             ],
             [
              0.1111111111111111,
              "#46039f"
             ],
             [
              0.2222222222222222,
              "#7201a8"
             ],
             [
              0.3333333333333333,
              "#9c179e"
             ],
             [
              0.4444444444444444,
              "#bd3786"
             ],
             [
              0.5555555555555556,
              "#d8576b"
             ],
             [
              0.6666666666666666,
              "#ed7953"
             ],
             [
              0.7777777777777778,
              "#fb9f3a"
             ],
             [
              0.8888888888888888,
              "#fdca26"
             ],
             [
              1,
              "#f0f921"
             ]
            ],
            "type": "heatmapgl"
           }
          ],
          "histogram": [
           {
            "marker": {
             "pattern": {
              "fillmode": "overlay",
              "size": 10,
              "solidity": 0.2
             }
            },
            "type": "histogram"
           }
          ],
          "histogram2d": [
           {
            "colorbar": {
             "outlinewidth": 0,
             "ticks": ""
            },
            "colorscale": [
             [
              0,
              "#0d0887"
             ],
             [
              0.1111111111111111,
              "#46039f"
             ],
             [
              0.2222222222222222,
              "#7201a8"
             ],
             [
              0.3333333333333333,
              "#9c179e"
             ],
             [
              0.4444444444444444,
              "#bd3786"
             ],
             [
              0.5555555555555556,
              "#d8576b"
             ],
             [
              0.6666666666666666,
              "#ed7953"
             ],
             [
              0.7777777777777778,
              "#fb9f3a"
             ],
             [
              0.8888888888888888,
              "#fdca26"
             ],
             [
              1,
              "#f0f921"
             ]
            ],
            "type": "histogram2d"
           }
          ],
          "histogram2dcontour": [
           {
            "colorbar": {
             "outlinewidth": 0,
             "ticks": ""
            },
            "colorscale": [
             [
              0,
              "#0d0887"
             ],
             [
              0.1111111111111111,
              "#46039f"
             ],
             [
              0.2222222222222222,
              "#7201a8"
             ],
             [
              0.3333333333333333,
              "#9c179e"
             ],
             [
              0.4444444444444444,
              "#bd3786"
             ],
             [
              0.5555555555555556,
              "#d8576b"
             ],
             [
              0.6666666666666666,
              "#ed7953"
             ],
             [
              0.7777777777777778,
              "#fb9f3a"
             ],
             [
              0.8888888888888888,
              "#fdca26"
             ],
             [
              1,
              "#f0f921"
             ]
            ],
            "type": "histogram2dcontour"
           }
          ],
          "mesh3d": [
           {
            "colorbar": {
             "outlinewidth": 0,
             "ticks": ""
            },
            "type": "mesh3d"
           }
          ],
          "parcoords": [
           {
            "line": {
             "colorbar": {
              "outlinewidth": 0,
              "ticks": ""
             }
            },
            "type": "parcoords"
           }
          ],
          "pie": [
           {
            "automargin": true,
            "type": "pie"
           }
          ],
          "scatter": [
           {
            "fillpattern": {
             "fillmode": "overlay",
             "size": 10,
             "solidity": 0.2
            },
            "type": "scatter"
           }
          ],
          "scatter3d": [
           {
            "line": {
             "colorbar": {
              "outlinewidth": 0,
              "ticks": ""
             }
            },
            "marker": {
             "colorbar": {
              "outlinewidth": 0,
              "ticks": ""
             }
            },
            "type": "scatter3d"
           }
          ],
          "scattercarpet": [
           {
            "marker": {
             "colorbar": {
              "outlinewidth": 0,
              "ticks": ""
             }
            },
            "type": "scattercarpet"
           }
          ],
          "scattergeo": [
           {
            "marker": {
             "colorbar": {
              "outlinewidth": 0,
              "ticks": ""
             }
            },
            "type": "scattergeo"
           }
          ],
          "scattergl": [
           {
            "marker": {
             "colorbar": {
              "outlinewidth": 0,
              "ticks": ""
             }
            },
            "type": "scattergl"
           }
          ],
          "scattermapbox": [
           {
            "marker": {
             "colorbar": {
              "outlinewidth": 0,
              "ticks": ""
             }
            },
            "type": "scattermapbox"
           }
          ],
          "scatterpolar": [
           {
            "marker": {
             "colorbar": {
              "outlinewidth": 0,
              "ticks": ""
             }
            },
            "type": "scatterpolar"
           }
          ],
          "scatterpolargl": [
           {
            "marker": {
             "colorbar": {
              "outlinewidth": 0,
              "ticks": ""
             }
            },
            "type": "scatterpolargl"
           }
          ],
          "scatterternary": [
           {
            "marker": {
             "colorbar": {
              "outlinewidth": 0,
              "ticks": ""
             }
            },
            "type": "scatterternary"
           }
          ],
          "surface": [
           {
            "colorbar": {
             "outlinewidth": 0,
             "ticks": ""
            },
            "colorscale": [
             [
              0,
              "#0d0887"
             ],
             [
              0.1111111111111111,
              "#46039f"
             ],
             [
              0.2222222222222222,
              "#7201a8"
             ],
             [
              0.3333333333333333,
              "#9c179e"
             ],
             [
              0.4444444444444444,
              "#bd3786"
             ],
             [
              0.5555555555555556,
              "#d8576b"
             ],
             [
              0.6666666666666666,
              "#ed7953"
             ],
             [
              0.7777777777777778,
              "#fb9f3a"
             ],
             [
              0.8888888888888888,
              "#fdca26"
             ],
             [
              1,
              "#f0f921"
             ]
            ],
            "type": "surface"
           }
          ],
          "table": [
           {
            "cells": {
             "fill": {
              "color": "#EBF0F8"
             },
             "line": {
              "color": "white"
             }
            },
            "header": {
             "fill": {
              "color": "#C8D4E3"
             },
             "line": {
              "color": "white"
             }
            },
            "type": "table"
           }
          ]
         },
         "layout": {
          "annotationdefaults": {
           "arrowcolor": "#2a3f5f",
           "arrowhead": 0,
           "arrowwidth": 1
          },
          "autotypenumbers": "strict",
          "coloraxis": {
           "colorbar": {
            "outlinewidth": 0,
            "ticks": ""
           }
          },
          "colorscale": {
           "diverging": [
            [
             0,
             "#8e0152"
            ],
            [
             0.1,
             "#c51b7d"
            ],
            [
             0.2,
             "#de77ae"
            ],
            [
             0.3,
             "#f1b6da"
            ],
            [
             0.4,
             "#fde0ef"
            ],
            [
             0.5,
             "#f7f7f7"
            ],
            [
             0.6,
             "#e6f5d0"
            ],
            [
             0.7,
             "#b8e186"
            ],
            [
             0.8,
             "#7fbc41"
            ],
            [
             0.9,
             "#4d9221"
            ],
            [
             1,
             "#276419"
            ]
           ],
           "sequential": [
            [
             0,
             "#0d0887"
            ],
            [
             0.1111111111111111,
             "#46039f"
            ],
            [
             0.2222222222222222,
             "#7201a8"
            ],
            [
             0.3333333333333333,
             "#9c179e"
            ],
            [
             0.4444444444444444,
             "#bd3786"
            ],
            [
             0.5555555555555556,
             "#d8576b"
            ],
            [
             0.6666666666666666,
             "#ed7953"
            ],
            [
             0.7777777777777778,
             "#fb9f3a"
            ],
            [
             0.8888888888888888,
             "#fdca26"
            ],
            [
             1,
             "#f0f921"
            ]
           ],
           "sequentialminus": [
            [
             0,
             "#0d0887"
            ],
            [
             0.1111111111111111,
             "#46039f"
            ],
            [
             0.2222222222222222,
             "#7201a8"
            ],
            [
             0.3333333333333333,
             "#9c179e"
            ],
            [
             0.4444444444444444,
             "#bd3786"
            ],
            [
             0.5555555555555556,
             "#d8576b"
            ],
            [
             0.6666666666666666,
             "#ed7953"
            ],
            [
             0.7777777777777778,
             "#fb9f3a"
            ],
            [
             0.8888888888888888,
             "#fdca26"
            ],
            [
             1,
             "#f0f921"
            ]
           ]
          },
          "colorway": [
           "#636efa",
           "#EF553B",
           "#00cc96",
           "#ab63fa",
           "#FFA15A",
           "#19d3f3",
           "#FF6692",
           "#B6E880",
           "#FF97FF",
           "#FECB52"
          ],
          "font": {
           "color": "#2a3f5f"
          },
          "geo": {
           "bgcolor": "white",
           "lakecolor": "white",
           "landcolor": "#E5ECF6",
           "showlakes": true,
           "showland": true,
           "subunitcolor": "white"
          },
          "hoverlabel": {
           "align": "left"
          },
          "hovermode": "closest",
          "mapbox": {
           "style": "light"
          },
          "paper_bgcolor": "white",
          "plot_bgcolor": "#E5ECF6",
          "polar": {
           "angularaxis": {
            "gridcolor": "white",
            "linecolor": "white",
            "ticks": ""
           },
           "bgcolor": "#E5ECF6",
           "radialaxis": {
            "gridcolor": "white",
            "linecolor": "white",
            "ticks": ""
           }
          },
          "scene": {
           "xaxis": {
            "backgroundcolor": "#E5ECF6",
            "gridcolor": "white",
            "gridwidth": 2,
            "linecolor": "white",
            "showbackground": true,
            "ticks": "",
            "zerolinecolor": "white"
           },
           "yaxis": {
            "backgroundcolor": "#E5ECF6",
            "gridcolor": "white",
            "gridwidth": 2,
            "linecolor": "white",
            "showbackground": true,
            "ticks": "",
            "zerolinecolor": "white"
           },
           "zaxis": {
            "backgroundcolor": "#E5ECF6",
            "gridcolor": "white",
            "gridwidth": 2,
            "linecolor": "white",
            "showbackground": true,
            "ticks": "",
            "zerolinecolor": "white"
           }
          },
          "shapedefaults": {
           "line": {
            "color": "#2a3f5f"
           }
          },
          "ternary": {
           "aaxis": {
            "gridcolor": "white",
            "linecolor": "white",
            "ticks": ""
           },
           "baxis": {
            "gridcolor": "white",
            "linecolor": "white",
            "ticks": ""
           },
           "bgcolor": "#E5ECF6",
           "caxis": {
            "gridcolor": "white",
            "linecolor": "white",
            "ticks": ""
           }
          },
          "title": {
           "x": 0.05
          },
          "xaxis": {
           "automargin": true,
           "gridcolor": "white",
           "linecolor": "white",
           "ticks": "",
           "title": {
            "standoff": 15
           },
           "zerolinecolor": "white",
           "zerolinewidth": 2
          },
          "yaxis": {
           "automargin": true,
           "gridcolor": "white",
           "linecolor": "white",
           "ticks": "",
           "title": {
            "standoff": 15
           },
           "zerolinecolor": "white",
           "zerolinewidth": 2
          }
         }
        },
        "updatemenus": [
         {
          "buttons": [
           {
            "args": [
             {
              "type": "bar",
              "y": [
               [
                1,
                2,
                3
               ]
              ]
             },
             [
              0
             ]
            ],
            "label": "1",
            "method": "restyle",
            "visible": true
           },
           {
            "args": [
             {
              "type": "bar",
              "y": [
               [
                10,
                20,
                30
               ]
              ]
             },
             [
              0
             ]
            ],
            "label": "2",
            "method": "restyle",
            "visible": true
           },
           {
            "args": [
             {
              "type": "bar",
              "y": [
               [
                100,
                200,
                300
               ]
              ]
             },
             [
              0
             ]
            ],
            "label": "3",
            "method": "restyle",
            "visible": true
           }
          ],
          "direction": "down",
          "showactive": true
         },
         {
          "buttons": [
           {
            "args": [
             {
              "type": "bar",
              "y": [
               [
                1,
                2,
                3
               ]
              ]
             },
             [
              1
             ]
            ],
            "label": "1",
            "method": "restyle",
            "visible": true
           },
           {
            "args": [
             {
              "type": "bar",
              "y": [
               [
                10,
                20,
                30
               ]
              ]
             },
             [
              1
             ]
            ],
            "label": "2",
            "method": "restyle",
            "visible": true
           },
           {
            "args": [
             {
              "type": "bar",
              "y": [
               [
                100,
                200,
                300
               ]
              ]
             },
             [
              1
             ]
            ],
            "label": "3",
            "method": "restyle",
            "visible": true
           }
          ],
          "y": 0.5
         }
        ]
       }
      }
     },
     "metadata": {},
     "output_type": "display_data"
    }
   ],
   "source": [
    "# Imports\n",
    "import plotly.graph_objs as go\n",
    "import pandas as pd\n",
    "import numpy as np\n",
    "\n",
    "# data\n",
    "d = {'x': ['a','b','c','a','b','c','a','b','c'], 'y': [1,2,3,10,20,30,100,200,300], 'group': [1,1,1,2,2,2,3,3,3]}\n",
    "df = pd.DataFrame(data=d)\n",
    "\n",
    "# split df by groups and organize them in a dict\n",
    "groups = df['group'].unique().tolist()\n",
    "dfs={}\n",
    "for g in groups:\n",
    "    dfs[str(g)]=df[df['group']==g]\n",
    "\n",
    "# get column names from first dataframe in the dict\n",
    "#colNames = list(dfs[list(dfs.keys())[0]].columns)\n",
    "#colNames=colNames[:2]\n",
    "\n",
    "\n",
    "# one trace for each column per dataframe\n",
    "fig=go.Figure()\n",
    "\n",
    "# set up the first trace\n",
    "fig.add_trace(go.Bar(x=dfs['1']['x'],\n",
    "                             y=dfs['1']['y'],\n",
    "                             visible=True)\n",
    "             )\n",
    "# set up the second trace\n",
    "fig.add_trace(go.Bar(x=dfs['1']['x'],\n",
    "                             y=dfs['1']['y'],)\n",
    "             )\n",
    "\n",
    "#f=fig.to_dict()\n",
    "\n",
    "# plotly start\n",
    "# buttons for menu 1, names\n",
    "updatemenu=[]\n",
    "buttons=[]\n",
    "\n",
    "# button with one option for each dataframe\n",
    "for df in dfs.keys():\n",
    "    #print(b, df)\n",
    "    buttons.append(dict(method='restyle',\n",
    "                        label=df,\n",
    "                        visible=True,\n",
    "                        args=[{'y':[dfs[str(df)]['y'].values],\n",
    "                               'type':'bar'}, [0]],\n",
    "                        )\n",
    "                  )\n",
    "\n",
    "# another button with one option for each dataframe\n",
    "buttons2=[]\n",
    "for df in dfs.keys():\n",
    "    buttons2.append(dict(method='restyle',\n",
    "                        label=df,\n",
    "                        visible=True,\n",
    "                        args=[{'y':[dfs[str(df)]['y'].values],\n",
    "                               'type':'bar'}, [1]],\n",
    "                        )\n",
    "                  )\n",
    "\n",
    "# some adjustments to the updatemenus\n",
    "updatemenu=[]\n",
    "your_menu=dict()\n",
    "updatemenu.append(your_menu)\n",
    "your_menu2=dict()\n",
    "updatemenu.append(your_menu2)\n",
    "#updatemenu[1]\n",
    "updatemenu[0]['buttons']=buttons\n",
    "updatemenu[0]['direction']='down'\n",
    "updatemenu[0]['showactive']=True\n",
    "updatemenu[1]['buttons']=buttons2\n",
    "updatemenu[1]['y']=0.5\n",
    "\n",
    "# add dropdown menus to the figure\n",
    "fig.update_layout(showlegend=False, updatemenus=updatemenu)\n",
    "\n",
    "# add notations to the dropdown menus\n",
    "fig.update_layout(\n",
    "    annotations=[\n",
    "        go.layout.Annotation(text=\"<b>group/<br>trace:</b>\",\n",
    "                             x=-0.15, xref=\"paper\",\n",
    "                             y=1.15, yref=\"paper\",\n",
    "                             align=\"left\", showarrow=False),\n",
    "        go.layout.Annotation(text=\"<b>group/<br>trace:</b>\",\n",
    "                             x=-0.15, xref=\"paper\", y=0.6,\n",
    "                             yref=\"paper\", showarrow=False),\n",
    "                  ]\n",
    ")\n",
    "\n",
    "fig.show()"
   ]
  },
  {
   "cell_type": "code",
   "execution_count": null,
   "metadata": {},
   "outputs": [],
   "source": []
  }
 ],
 "metadata": {
  "kernelspec": {
   "display_name": "PyGIS",
   "language": "python",
   "name": "pygis"
  },
  "language_info": {
   "codemirror_mode": {
    "name": "ipython",
    "version": 3
   },
   "file_extension": ".py",
   "mimetype": "text/x-python",
   "name": "python",
   "nbconvert_exporter": "python",
   "pygments_lexer": "ipython3",
   "version": "3.9.12"
  },
  "orig_nbformat": 4
 },
 "nbformat": 4,
 "nbformat_minor": 2
}
